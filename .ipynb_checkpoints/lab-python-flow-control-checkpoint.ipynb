{
 "cells": [
  {
   "cell_type": "markdown",
   "id": "d3bfc191-8885-42ee-b0a0-bbab867c6f9f",
   "metadata": {
    "tags": []
   },
   "source": [
    "# Lab | Flow Control"
   ]
  },
  {
   "cell_type": "markdown",
   "id": "3851fcd1-cf98-4653-9c89-e003b7ec9400",
   "metadata": {},
   "source": [
    "## Exercise: Managing Customer Orders Optimized\n",
    "\n",
    "In the last lab, you were starting an online store that sells various products. To ensure smooth operations, you developed a program that manages customer orders and inventory.\n",
    "\n",
    "You did so without using flow control. Let's go a step further and improve this code.\n",
    "\n",
    "Follow the steps below to complete the exercise:\n",
    "\n",
    "1. Look at your code from the lab data structures, and improve repeated code with loops.\n",
    "\n",
    "2. Instead of asking the user to input the name of three products that a customer wants to order, do the following:\n",
    "    \n",
    "    a. Prompt the user to enter the name of a product that a customer wants to order.\n",
    "    \n",
    "    b. Add the product name to the \"customer_orders\" set.\n",
    "    \n",
    "    c. Ask the user if they want to add another product (yes/no).\n",
    "    \n",
    "    d. Continue the loop until the user does not want to add another product.\n",
    "\n",
    "3. Instead of updating the inventory by subtracting 1 from the quantity of each product, only do it for  the products that were ordered (those in \"customer_orders\")."
   ]
  },
  {
   "cell_type": "code",
   "execution_count": 3,
   "id": "49427bb4-1dc5-4c17-b380-49942f16e3d9",
   "metadata": {},
   "outputs": [
    {
     "name": "stdin",
     "output_type": "stream",
     "text": [
      "Quantity of t-shirt:  6\n",
      "Quantity of mug:  8\n",
      "Quantity of hat:  3\n",
      "Quantity of book:  22\n",
      "Quantity of keychain:  12\n"
     ]
    },
    {
     "name": "stdout",
     "output_type": "stream",
     "text": [
      "Update:  {'t-shirt': 6, 'mug': 8, 'hat': 3, 'book': 22, 'keychain': 12}\n"
     ]
    },
    {
     "name": "stdin",
     "output_type": "stream",
     "text": [
      "Enter the name of a product to order:  t-shirt\n",
      "Do you want to add another product? (yes/no):  yes\n",
      "Enter the name of a product to order:  hat\n",
      "Do you want to add another product? (yes/no):  yes\n",
      "Enter the name of a product to order:  keychain\n",
      "Do you want to add another product? (yes/no):  no\n"
     ]
    },
    {
     "name": "stdout",
     "output_type": "stream",
     "text": [
      "Customer orders: ['t-shirt', 'hat', 'keychain']\n"
     ]
    }
   ],
   "source": [
    "products = ['t-shirt', 'mug', 'hat', 'book', 'keychain']\n",
    "\n",
    "inventory = {}\n",
    "\n",
    "i = 0\n",
    "while i < len(products):\n",
    "    quantity = int(input(f'Quantity of {products[i]}: '))\n",
    "    inventory[products[i]] = quantity\n",
    "    i += 1\n",
    "\n",
    "print('Update: ', inventory)\n",
    "\n",
    "customer_orders = []\n",
    "    \n",
    "add_more = True\n",
    "while add_more:\n",
    "    order = input('Enter the name of a product to order: ').strip().lower()\n",
    "    if order in products:\n",
    "        customer_orders.append(order)\n",
    "    else:\n",
    "        print(f'{order} is not available in the products list.')\n",
    "    \n",
    "    another = input('Do you want to add another product? (yes/no): ').strip().lower()\n",
    "    add_more = (another == 'yes')\n",
    "\n",
    "print('Customer orders:', customer_orders)"
   ]
  },
  {
   "cell_type": "code",
   "execution_count": 5,
   "id": "f90f1720-8f59-4da4-b452-864e2c65da34",
   "metadata": {},
   "outputs": [
    {
     "name": "stdout",
     "output_type": "stream",
     "text": [
      "Order Statistics:\n",
      "Total Products Ordered: 3\n",
      "Order Percentages:\n",
      "t-shirt: 16.67%\n",
      "hat: 33.33%\n",
      "keychain: 8.33%\n",
      "Updated Inventory:\n",
      "t-shirt: 5\n",
      "mug: 8\n",
      "hat: 2\n",
      "book: 22\n",
      "keychain: 11\n"
     ]
    }
   ],
   "source": [
    "total_products_ordered = len(customer_orders)\n",
    "percentage_ordered = (total_products_ordered / len(products)) * 100\n",
    "order_status = (total_products_ordered, percentage_ordered)\n",
    "\n",
    "print('Order Statistics:')\n",
    "print(f'Total Products Ordered: {order_status[0]}')\n",
    "\n",
    "order_percentages = {}\n",
    "i = 0\n",
    "while i < len(customer_orders):\n",
    "    product = customer_orders[i]\n",
    "    if inventory[product] > 0:\n",
    "        if product in order_percentages:\n",
    "            order_percentages[product] += (1 / inventory[product]) * 100\n",
    "        else:\n",
    "            order_percentages[product] = (1 / inventory[product]) * 100\n",
    "    i += 1\n",
    "\n",
    "print('Order Percentages:')\n",
    "i = 0\n",
    "while i < len(products):\n",
    "    product = products[i]\n",
    "    if product in order_percentages:\n",
    "        print(f'{product}: {order_percentages[product]:.2f}%')\n",
    "    i += 1\n",
    "\n",
    "i = 0\n",
    "while i < len(customer_orders):\n",
    "    product = customer_orders[i]\n",
    "    if inventory[product] > 0:\n",
    "        inventory[product] -= 1\n",
    "    i += 1\n",
    "\n",
    "print('Updated Inventory:')\n",
    "i = 0\n",
    "while i < len(products):\n",
    "    product = products[i]\n",
    "    print(f'{product}: {inventory[product]}')\n",
    "    i += 1\n"
   ]
  },
  {
   "cell_type": "code",
   "execution_count": null,
   "id": "e44f11e2-9e28-4bd0-8db1-eaee293c92d6",
   "metadata": {},
   "outputs": [],
   "source": []
  }
 ],
 "metadata": {
  "kernelspec": {
   "display_name": "Python 3 (ipykernel)",
   "language": "python",
   "name": "python3"
  },
  "language_info": {
   "codemirror_mode": {
    "name": "ipython",
    "version": 3
   },
   "file_extension": ".py",
   "mimetype": "text/x-python",
   "name": "python",
   "nbconvert_exporter": "python",
   "pygments_lexer": "ipython3",
   "version": "3.12.4"
  }
 },
 "nbformat": 4,
 "nbformat_minor": 5
}
